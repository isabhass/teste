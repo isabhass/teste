{
  "nbformat": 4,
  "nbformat_minor": 0,
  "metadata": {
    "colab": {
      "provenance": [],
      "authorship_tag": "ABX9TyMvHXjPlg2Zx/1L3anLSo1N",
      "include_colab_link": true
    },
    "kernelspec": {
      "name": "python3",
      "display_name": "Python 3"
    },
    "language_info": {
      "name": "python"
    }
  },
  "cells": [
    {
      "cell_type": "markdown",
      "metadata": {
        "id": "view-in-github",
        "colab_type": "text"
      },
      "source": [
        "<a href=\"https://colab.research.google.com/github/isabhass/teste/blob/main/BackTestingCarteiraComBT.ipynb\" target=\"_parent\"><img src=\"https://colab.research.google.com/assets/colab-badge.svg\" alt=\"Open In Colab\"/></a>"
      ]
    },
    {
      "cell_type": "markdown",
      "source": [
        "## Vamos comparar duas estratégias - Rebalanceamento de Buy&Hold"
      ],
      "metadata": {
        "id": "qnaPIDuOXNUc"
      }
    },
    {
      "cell_type": "markdown",
      "source": [
        "Video do canal Código Quant - BackTesting de Carteira com Python (BT)"
      ],
      "metadata": {
        "id": "L79e3yIQXU-K"
      }
    },
    {
      "cell_type": "code",
      "execution_count": null,
      "metadata": {
        "id": "LarSwquKV7e-",
        "colab": {
          "base_uri": "https://localhost:8080/"
        },
        "outputId": "24e57232-4691-4534-e7b9-a9df3a6a4522"
      },
      "outputs": [
        {
          "output_type": "stream",
          "name": "stdout",
          "text": [
            "Looking in indexes: https://pypi.org/simple, https://us-python.pkg.dev/colab-wheels/public/simple/\n",
            "Collecting bt\n",
            "  Downloading bt-0.2.9.tar.gz (2.7 MB)\n",
            "\u001b[2K     \u001b[90m━━━━━━━━━━━━━━━━━━━━━━━━━━━━━━━━━━━━━━━━\u001b[0m \u001b[32m2.7/2.7 MB\u001b[0m \u001b[31m20.3 MB/s\u001b[0m eta \u001b[36m0:00:00\u001b[0m\n",
            "\u001b[?25h  Installing build dependencies ... \u001b[?25l\u001b[?25hdone\n",
            "  Getting requirements to build wheel ... \u001b[?25l\u001b[?25hdone\n",
            "  Preparing metadata (pyproject.toml) ... \u001b[?25l\u001b[?25hdone\n",
            "Collecting ffn>=0.3.5\n",
            "  Downloading ffn-0.3.6-py2.py3-none-any.whl (25 kB)\n",
            "Collecting pyprind>=2.11\n",
            "  Downloading PyPrind-2.11.3-py2.py3-none-any.whl (8.4 kB)\n",
            "Requirement already satisfied: pandas-datareader>=0.2 in /usr/local/lib/python3.9/dist-packages (from ffn>=0.3.5->bt) (0.10.0)\n",
            "Requirement already satisfied: decorator>=4 in /usr/local/lib/python3.9/dist-packages (from ffn>=0.3.5->bt) (4.4.2)\n",
            "Requirement already satisfied: tabulate>=0.7.5 in /usr/local/lib/python3.9/dist-packages (from ffn>=0.3.5->bt) (0.8.10)\n",
            "Requirement already satisfied: numpy>=1.5 in /usr/local/lib/python3.9/dist-packages (from ffn>=0.3.5->bt) (1.22.4)\n",
            "Requirement already satisfied: future>=0.15 in /usr/local/lib/python3.9/dist-packages (from ffn>=0.3.5->bt) (0.18.3)\n",
            "Requirement already satisfied: scipy>=0.15 in /usr/local/lib/python3.9/dist-packages (from ffn>=0.3.5->bt) (1.10.1)\n",
            "Requirement already satisfied: scikit-learn>=0.15 in /usr/local/lib/python3.9/dist-packages (from ffn>=0.3.5->bt) (1.2.2)\n",
            "Requirement already satisfied: pandas>=0.19 in /usr/local/lib/python3.9/dist-packages (from ffn>=0.3.5->bt) (1.4.4)\n",
            "Requirement already satisfied: matplotlib>=1 in /usr/local/lib/python3.9/dist-packages (from ffn>=0.3.5->bt) (3.7.1)\n",
            "Requirement already satisfied: cycler>=0.10 in /usr/local/lib/python3.9/dist-packages (from matplotlib>=1->ffn>=0.3.5->bt) (0.11.0)\n",
            "Requirement already satisfied: pyparsing>=2.3.1 in /usr/local/lib/python3.9/dist-packages (from matplotlib>=1->ffn>=0.3.5->bt) (3.0.9)\n",
            "Requirement already satisfied: contourpy>=1.0.1 in /usr/local/lib/python3.9/dist-packages (from matplotlib>=1->ffn>=0.3.5->bt) (1.0.7)\n",
            "Requirement already satisfied: pillow>=6.2.0 in /usr/local/lib/python3.9/dist-packages (from matplotlib>=1->ffn>=0.3.5->bt) (8.4.0)\n",
            "Requirement already satisfied: python-dateutil>=2.7 in /usr/local/lib/python3.9/dist-packages (from matplotlib>=1->ffn>=0.3.5->bt) (2.8.2)\n",
            "Requirement already satisfied: fonttools>=4.22.0 in /usr/local/lib/python3.9/dist-packages (from matplotlib>=1->ffn>=0.3.5->bt) (4.39.2)\n",
            "Requirement already satisfied: kiwisolver>=1.0.1 in /usr/local/lib/python3.9/dist-packages (from matplotlib>=1->ffn>=0.3.5->bt) (1.4.4)\n",
            "Requirement already satisfied: importlib-resources>=3.2.0 in /usr/local/lib/python3.9/dist-packages (from matplotlib>=1->ffn>=0.3.5->bt) (5.12.0)\n",
            "Requirement already satisfied: packaging>=20.0 in /usr/local/lib/python3.9/dist-packages (from matplotlib>=1->ffn>=0.3.5->bt) (23.0)\n",
            "Requirement already satisfied: pytz>=2020.1 in /usr/local/lib/python3.9/dist-packages (from pandas>=0.19->ffn>=0.3.5->bt) (2022.7.1)\n",
            "Requirement already satisfied: lxml in /usr/local/lib/python3.9/dist-packages (from pandas-datareader>=0.2->ffn>=0.3.5->bt) (4.9.2)\n",
            "Requirement already satisfied: requests>=2.19.0 in /usr/local/lib/python3.9/dist-packages (from pandas-datareader>=0.2->ffn>=0.3.5->bt) (2.27.1)\n",
            "Requirement already satisfied: joblib>=1.1.1 in /usr/local/lib/python3.9/dist-packages (from scikit-learn>=0.15->ffn>=0.3.5->bt) (1.1.1)\n",
            "Requirement already satisfied: threadpoolctl>=2.0.0 in /usr/local/lib/python3.9/dist-packages (from scikit-learn>=0.15->ffn>=0.3.5->bt) (3.1.0)\n",
            "Requirement already satisfied: zipp>=3.1.0 in /usr/local/lib/python3.9/dist-packages (from importlib-resources>=3.2.0->matplotlib>=1->ffn>=0.3.5->bt) (3.15.0)\n",
            "Requirement already satisfied: six>=1.5 in /usr/local/lib/python3.9/dist-packages (from python-dateutil>=2.7->matplotlib>=1->ffn>=0.3.5->bt) (1.16.0)\n",
            "Requirement already satisfied: urllib3<1.27,>=1.21.1 in /usr/local/lib/python3.9/dist-packages (from requests>=2.19.0->pandas-datareader>=0.2->ffn>=0.3.5->bt) (1.26.15)\n",
            "Requirement already satisfied: certifi>=2017.4.17 in /usr/local/lib/python3.9/dist-packages (from requests>=2.19.0->pandas-datareader>=0.2->ffn>=0.3.5->bt) (2022.12.7)\n",
            "Requirement already satisfied: charset-normalizer~=2.0.0 in /usr/local/lib/python3.9/dist-packages (from requests>=2.19.0->pandas-datareader>=0.2->ffn>=0.3.5->bt) (2.0.12)\n",
            "Requirement already satisfied: idna<4,>=2.5 in /usr/local/lib/python3.9/dist-packages (from requests>=2.19.0->pandas-datareader>=0.2->ffn>=0.3.5->bt) (3.4)\n",
            "Building wheels for collected packages: bt\n",
            "  Building wheel for bt (pyproject.toml) ... \u001b[?25l\u001b[?25hdone\n",
            "  Created wheel for bt: filename=bt-0.2.9-cp39-cp39-linux_x86_64.whl size=1188192 sha256=3d28576b5c16f8c14e29521d97faa2d62dcdabc6bef967c7ebd9dca0acf36cb9\n",
            "  Stored in directory: /root/.cache/pip/wheels/94/27/2d/9d6f4170a0a76f7b431cc3008624c6b4221eb7221d85076e1b\n",
            "Successfully built bt\n",
            "Installing collected packages: pyprind, ffn, bt\n",
            "Successfully installed bt-0.2.9 ffn-0.3.6 pyprind-2.11.3\n"
          ]
        }
      ],
      "source": [
        "!pip install bt"
      ]
    },
    {
      "cell_type": "code",
      "source": [
        "!pip install yfinance"
      ],
      "metadata": {
        "id": "e5HWz-BJV_H7",
        "colab": {
          "base_uri": "https://localhost:8080/"
        },
        "outputId": "bf13de18-454c-4f05-a81a-0f40ae522e9d"
      },
      "execution_count": null,
      "outputs": [
        {
          "output_type": "stream",
          "name": "stdout",
          "text": [
            "Looking in indexes: https://pypi.org/simple, https://us-python.pkg.dev/colab-wheels/public/simple/\n",
            "Requirement already satisfied: yfinance in /usr/local/lib/python3.9/dist-packages (0.2.13)\n",
            "Requirement already satisfied: frozendict>=2.3.4 in /usr/local/lib/python3.9/dist-packages (from yfinance) (2.3.6)\n",
            "Requirement already satisfied: cryptography>=3.3.2 in /usr/local/lib/python3.9/dist-packages (from yfinance) (39.0.2)\n",
            "Requirement already satisfied: html5lib>=1.1 in /usr/local/lib/python3.9/dist-packages (from yfinance) (1.1)\n",
            "Requirement already satisfied: pandas>=1.3.0 in /usr/local/lib/python3.9/dist-packages (from yfinance) (1.4.4)\n",
            "Requirement already satisfied: multitasking>=0.0.7 in /usr/local/lib/python3.9/dist-packages (from yfinance) (0.0.11)\n",
            "Requirement already satisfied: appdirs>=1.4.4 in /usr/local/lib/python3.9/dist-packages (from yfinance) (1.4.4)\n",
            "Requirement already satisfied: beautifulsoup4>=4.11.1 in /usr/local/lib/python3.9/dist-packages (from yfinance) (4.11.2)\n",
            "Requirement already satisfied: requests>=2.26 in /usr/local/lib/python3.9/dist-packages (from yfinance) (2.27.1)\n",
            "Requirement already satisfied: numpy>=1.16.5 in /usr/local/lib/python3.9/dist-packages (from yfinance) (1.22.4)\n",
            "Requirement already satisfied: pytz>=2022.5 in /usr/local/lib/python3.9/dist-packages (from yfinance) (2022.7.1)\n",
            "Requirement already satisfied: lxml>=4.9.1 in /usr/local/lib/python3.9/dist-packages (from yfinance) (4.9.2)\n",
            "Requirement already satisfied: soupsieve>1.2 in /usr/local/lib/python3.9/dist-packages (from beautifulsoup4>=4.11.1->yfinance) (2.4)\n",
            "Requirement already satisfied: cffi>=1.12 in /usr/local/lib/python3.9/dist-packages (from cryptography>=3.3.2->yfinance) (1.15.1)\n",
            "Requirement already satisfied: six>=1.9 in /usr/local/lib/python3.9/dist-packages (from html5lib>=1.1->yfinance) (1.16.0)\n",
            "Requirement already satisfied: webencodings in /usr/local/lib/python3.9/dist-packages (from html5lib>=1.1->yfinance) (0.5.1)\n",
            "Requirement already satisfied: python-dateutil>=2.8.1 in /usr/local/lib/python3.9/dist-packages (from pandas>=1.3.0->yfinance) (2.8.2)\n",
            "Requirement already satisfied: urllib3<1.27,>=1.21.1 in /usr/local/lib/python3.9/dist-packages (from requests>=2.26->yfinance) (1.26.15)\n",
            "Requirement already satisfied: idna<4,>=2.5 in /usr/local/lib/python3.9/dist-packages (from requests>=2.26->yfinance) (3.4)\n",
            "Requirement already satisfied: certifi>=2017.4.17 in /usr/local/lib/python3.9/dist-packages (from requests>=2.26->yfinance) (2022.12.7)\n",
            "Requirement already satisfied: charset-normalizer~=2.0.0 in /usr/local/lib/python3.9/dist-packages (from requests>=2.26->yfinance) (2.0.12)\n",
            "Requirement already satisfied: pycparser in /usr/local/lib/python3.9/dist-packages (from cffi>=1.12->cryptography>=3.3.2->yfinance) (2.21)\n"
          ]
        }
      ]
    },
    {
      "cell_type": "code",
      "source": [
        "import bt\n",
        "import yfinance as yf\n",
        "\n",
        "import pandas as pd\n",
        "import matplotlib\n",
        "matplotlib.style.use('seaborn-darkgrid')\n",
        "%matplotlib inline"
      ],
      "metadata": {
        "id": "BOlLpxzyXejM",
        "colab": {
          "base_uri": "https://localhost:8080/"
        },
        "outputId": "42edb194-a420-4945-b911-10bf3e34d421"
      },
      "execution_count": null,
      "outputs": [
        {
          "output_type": "stream",
          "name": "stderr",
          "text": [
            "<ipython-input-3-1dc368253006>:6: MatplotlibDeprecationWarning: The seaborn styles shipped by Matplotlib are deprecated since 3.6, as they no longer correspond to the styles shipped by seaborn. However, they will remain available as 'seaborn-v0_8-<style>'. Alternatively, directly use the seaborn API instead.\n",
            "  matplotlib.style.use('seaborn-darkgrid')\n"
          ]
        }
      ]
    },
    {
      "cell_type": "markdown",
      "source": [
        "## Funções"
      ],
      "metadata": {
        "id": "UJlZkDhEX00M"
      }
    },
    {
      "cell_type": "code",
      "source": [
        "def consulta_bc(codigo_bcb):\n",
        "  url = 'http://api.bcb.gov.br/dados/serie/bcdata.sgs.{}/dados?formato=json'.format(codigo_bcb)\n",
        "  df = pd.read_json(url)\n",
        "  df['data'] = pd.to_datetime(df['data'], dayfirst=True)\n",
        "  df.set_index('data', inplace=True)\n",
        "  return df"
      ],
      "metadata": {
        "id": "HpffSnD2XutV"
      },
      "execution_count": null,
      "outputs": []
    },
    {
      "cell_type": "code",
      "source": [
        "def cdi_acumulado(data_inicio, data_fim):\n",
        "  cdi = consulta_bc(12)\n",
        "  cdi_acumulado = (1 + cdi[data_inicio : data_fim] / 100).cumprod()\n",
        "  cdi_acumulado.iloc[0] = 1\n",
        "  return cdi_acumulado"
      ],
      "metadata": {
        "id": "vwjbR5w_ZG2b"
      },
      "execution_count": null,
      "outputs": []
    },
    {
      "cell_type": "code",
      "source": [
        "data_inicio = '2018-01-02'\n",
        "data_fim = '2023-03-25'"
      ],
      "metadata": {
        "id": "r3o4_D7iZdto"
      },
      "execution_count": null,
      "outputs": []
    },
    {
      "cell_type": "code",
      "source": [
        "cdi = cdi_acumulado(data_inicio=data_inicio, data_fim=data_fim)"
      ],
      "metadata": {
        "id": "qG9rHfJcZk5_"
      },
      "execution_count": null,
      "outputs": []
    },
    {
      "cell_type": "code",
      "source": [
        "tickers_carteira = ['^GSPC', 'BTC-USD']"
      ],
      "metadata": {
        "id": "tawM954dZ2B9"
      },
      "execution_count": null,
      "outputs": []
    },
    {
      "cell_type": "code",
      "source": [
        "carteira = yf.download(tickers_carteira, start=data_inicio, end=data_fim)['Adj Close']"
      ],
      "metadata": {
        "colab": {
          "base_uri": "https://localhost:8080/"
        },
        "id": "xDEu4GvXZ7Cq",
        "outputId": "ed5cecba-d803-4df6-ce18-bd405c6c1867"
      },
      "execution_count": null,
      "outputs": [
        {
          "output_type": "stream",
          "name": "stdout",
          "text": [
            "[*********************100%***********************]  2 of 2 completed\n"
          ]
        }
      ]
    },
    {
      "cell_type": "code",
      "source": [
        "carteira['renda_fixa'] = cdi\n",
        "carteira.dropna(inplace=True)"
      ],
      "metadata": {
        "id": "BPSaTA5XaDlI"
      },
      "execution_count": null,
      "outputs": []
    },
    {
      "cell_type": "code",
      "source": [
        "carteira"
      ],
      "metadata": {
        "colab": {
          "base_uri": "https://localhost:8080/",
          "height": 455
        },
        "id": "fzWSuATbaLU7",
        "outputId": "f064e6e8-107a-4f89-f158-f5c52911ba2b"
      },
      "execution_count": null,
      "outputs": [
        {
          "output_type": "execute_result",
          "data": {
            "text/plain": [
              "                 BTC-USD        ^GSPC  renda_fixa\n",
              "Date                                             \n",
              "2018-01-02  14982.099609  2695.810059    1.000000\n",
              "2018-01-03  15201.000000  2713.060059    1.000529\n",
              "2018-01-04  15599.200195  2723.989990    1.000794\n",
              "2018-01-05  17429.500000  2743.149902    1.001058\n",
              "2018-01-08  15170.099609  2747.709961    1.001323\n",
              "...                  ...          ...         ...\n",
              "2023-03-17  27423.929688  3916.639893    1.397020\n",
              "2023-03-20  27767.236328  3951.570068    1.397729\n",
              "2023-03-21  28175.816406  4002.870117    1.398439\n",
              "2023-03-22  27307.437500  3936.969971    1.399149\n",
              "2023-03-23  28333.972656  3948.719971    1.399860\n",
              "\n",
              "[1279 rows x 3 columns]"
            ],
            "text/html": [
              "\n",
              "  <div id=\"df-07a31a21-e519-4e7f-81a8-bf4bf80def90\">\n",
              "    <div class=\"colab-df-container\">\n",
              "      <div>\n",
              "<style scoped>\n",
              "    .dataframe tbody tr th:only-of-type {\n",
              "        vertical-align: middle;\n",
              "    }\n",
              "\n",
              "    .dataframe tbody tr th {\n",
              "        vertical-align: top;\n",
              "    }\n",
              "\n",
              "    .dataframe thead th {\n",
              "        text-align: right;\n",
              "    }\n",
              "</style>\n",
              "<table border=\"1\" class=\"dataframe\">\n",
              "  <thead>\n",
              "    <tr style=\"text-align: right;\">\n",
              "      <th></th>\n",
              "      <th>BTC-USD</th>\n",
              "      <th>^GSPC</th>\n",
              "      <th>renda_fixa</th>\n",
              "    </tr>\n",
              "    <tr>\n",
              "      <th>Date</th>\n",
              "      <th></th>\n",
              "      <th></th>\n",
              "      <th></th>\n",
              "    </tr>\n",
              "  </thead>\n",
              "  <tbody>\n",
              "    <tr>\n",
              "      <th>2018-01-02</th>\n",
              "      <td>14982.099609</td>\n",
              "      <td>2695.810059</td>\n",
              "      <td>1.000000</td>\n",
              "    </tr>\n",
              "    <tr>\n",
              "      <th>2018-01-03</th>\n",
              "      <td>15201.000000</td>\n",
              "      <td>2713.060059</td>\n",
              "      <td>1.000529</td>\n",
              "    </tr>\n",
              "    <tr>\n",
              "      <th>2018-01-04</th>\n",
              "      <td>15599.200195</td>\n",
              "      <td>2723.989990</td>\n",
              "      <td>1.000794</td>\n",
              "    </tr>\n",
              "    <tr>\n",
              "      <th>2018-01-05</th>\n",
              "      <td>17429.500000</td>\n",
              "      <td>2743.149902</td>\n",
              "      <td>1.001058</td>\n",
              "    </tr>\n",
              "    <tr>\n",
              "      <th>2018-01-08</th>\n",
              "      <td>15170.099609</td>\n",
              "      <td>2747.709961</td>\n",
              "      <td>1.001323</td>\n",
              "    </tr>\n",
              "    <tr>\n",
              "      <th>...</th>\n",
              "      <td>...</td>\n",
              "      <td>...</td>\n",
              "      <td>...</td>\n",
              "    </tr>\n",
              "    <tr>\n",
              "      <th>2023-03-17</th>\n",
              "      <td>27423.929688</td>\n",
              "      <td>3916.639893</td>\n",
              "      <td>1.397020</td>\n",
              "    </tr>\n",
              "    <tr>\n",
              "      <th>2023-03-20</th>\n",
              "      <td>27767.236328</td>\n",
              "      <td>3951.570068</td>\n",
              "      <td>1.397729</td>\n",
              "    </tr>\n",
              "    <tr>\n",
              "      <th>2023-03-21</th>\n",
              "      <td>28175.816406</td>\n",
              "      <td>4002.870117</td>\n",
              "      <td>1.398439</td>\n",
              "    </tr>\n",
              "    <tr>\n",
              "      <th>2023-03-22</th>\n",
              "      <td>27307.437500</td>\n",
              "      <td>3936.969971</td>\n",
              "      <td>1.399149</td>\n",
              "    </tr>\n",
              "    <tr>\n",
              "      <th>2023-03-23</th>\n",
              "      <td>28333.972656</td>\n",
              "      <td>3948.719971</td>\n",
              "      <td>1.399860</td>\n",
              "    </tr>\n",
              "  </tbody>\n",
              "</table>\n",
              "<p>1279 rows × 3 columns</p>\n",
              "</div>\n",
              "      <button class=\"colab-df-convert\" onclick=\"convertToInteractive('df-07a31a21-e519-4e7f-81a8-bf4bf80def90')\"\n",
              "              title=\"Convert this dataframe to an interactive table.\"\n",
              "              style=\"display:none;\">\n",
              "        \n",
              "  <svg xmlns=\"http://www.w3.org/2000/svg\" height=\"24px\"viewBox=\"0 0 24 24\"\n",
              "       width=\"24px\">\n",
              "    <path d=\"M0 0h24v24H0V0z\" fill=\"none\"/>\n",
              "    <path d=\"M18.56 5.44l.94 2.06.94-2.06 2.06-.94-2.06-.94-.94-2.06-.94 2.06-2.06.94zm-11 1L8.5 8.5l.94-2.06 2.06-.94-2.06-.94L8.5 2.5l-.94 2.06-2.06.94zm10 10l.94 2.06.94-2.06 2.06-.94-2.06-.94-.94-2.06-.94 2.06-2.06.94z\"/><path d=\"M17.41 7.96l-1.37-1.37c-.4-.4-.92-.59-1.43-.59-.52 0-1.04.2-1.43.59L10.3 9.45l-7.72 7.72c-.78.78-.78 2.05 0 2.83L4 21.41c.39.39.9.59 1.41.59.51 0 1.02-.2 1.41-.59l7.78-7.78 2.81-2.81c.8-.78.8-2.07 0-2.86zM5.41 20L4 18.59l7.72-7.72 1.47 1.35L5.41 20z\"/>\n",
              "  </svg>\n",
              "      </button>\n",
              "      \n",
              "  <style>\n",
              "    .colab-df-container {\n",
              "      display:flex;\n",
              "      flex-wrap:wrap;\n",
              "      gap: 12px;\n",
              "    }\n",
              "\n",
              "    .colab-df-convert {\n",
              "      background-color: #E8F0FE;\n",
              "      border: none;\n",
              "      border-radius: 50%;\n",
              "      cursor: pointer;\n",
              "      display: none;\n",
              "      fill: #1967D2;\n",
              "      height: 32px;\n",
              "      padding: 0 0 0 0;\n",
              "      width: 32px;\n",
              "    }\n",
              "\n",
              "    .colab-df-convert:hover {\n",
              "      background-color: #E2EBFA;\n",
              "      box-shadow: 0px 1px 2px rgba(60, 64, 67, 0.3), 0px 1px 3px 1px rgba(60, 64, 67, 0.15);\n",
              "      fill: #174EA6;\n",
              "    }\n",
              "\n",
              "    [theme=dark] .colab-df-convert {\n",
              "      background-color: #3B4455;\n",
              "      fill: #D2E3FC;\n",
              "    }\n",
              "\n",
              "    [theme=dark] .colab-df-convert:hover {\n",
              "      background-color: #434B5C;\n",
              "      box-shadow: 0px 1px 3px 1px rgba(0, 0, 0, 0.15);\n",
              "      filter: drop-shadow(0px 1px 2px rgba(0, 0, 0, 0.3));\n",
              "      fill: #FFFFFF;\n",
              "    }\n",
              "  </style>\n",
              "\n",
              "      <script>\n",
              "        const buttonEl =\n",
              "          document.querySelector('#df-07a31a21-e519-4e7f-81a8-bf4bf80def90 button.colab-df-convert');\n",
              "        buttonEl.style.display =\n",
              "          google.colab.kernel.accessAllowed ? 'block' : 'none';\n",
              "\n",
              "        async function convertToInteractive(key) {\n",
              "          const element = document.querySelector('#df-07a31a21-e519-4e7f-81a8-bf4bf80def90');\n",
              "          const dataTable =\n",
              "            await google.colab.kernel.invokeFunction('convertToInteractive',\n",
              "                                                     [key], {});\n",
              "          if (!dataTable) return;\n",
              "\n",
              "          const docLinkHtml = 'Like what you see? Visit the ' +\n",
              "            '<a target=\"_blank\" href=https://colab.research.google.com/notebooks/data_table.ipynb>data table notebook</a>'\n",
              "            + ' to learn more about interactive tables.';\n",
              "          element.innerHTML = '';\n",
              "          dataTable['output_type'] = 'display_data';\n",
              "          await google.colab.output.renderOutput(dataTable, element);\n",
              "          const docLink = document.createElement('div');\n",
              "          docLink.innerHTML = docLinkHtml;\n",
              "          element.appendChild(docLink);\n",
              "        }\n",
              "      </script>\n",
              "    </div>\n",
              "  </div>\n",
              "  "
            ]
          },
          "metadata": {},
          "execution_count": 11
        }
      ]
    },
    {
      "cell_type": "code",
      "source": [
        "rebalanceamento = bt.Strategy('rebalanceamento', \n",
        "                [bt.algos.RunMonthly(run_on_end_of_period=True),\n",
        "                 bt.algos.SelectAll(),\n",
        "                 bt.algos.WeighEqually(),\n",
        "                 bt.algos.Rebalance()])"
      ],
      "metadata": {
        "id": "-FNuklkQaWV0"
      },
      "execution_count": null,
      "outputs": []
    },
    {
      "cell_type": "code",
      "source": [
        "buy_hold = bt.Strategy('Buy&Hold', \n",
        "                   [ bt.algos.RunOnce(),\n",
        "                     bt.algos.SelectAll(),\n",
        "                     bt.algos.WeighEqually(),\n",
        "                     bt.algos.Rebalance()]\n",
        "                    )"
      ],
      "metadata": {
        "id": "yMBQkq8Nd4N5"
      },
      "execution_count": null,
      "outputs": []
    },
    {
      "cell_type": "code",
      "source": [
        "bt1 = bt.Backtest(rebalanceamento, carteira)\n",
        "bt2 = bt.Backtest(buy_hold, carteira)"
      ],
      "metadata": {
        "id": "6t6u_W7HdUpT"
      },
      "execution_count": null,
      "outputs": []
    },
    {
      "cell_type": "code",
      "source": [
        "resultados = bt.run(bt1, bt2)"
      ],
      "metadata": {
        "id": "885lCFPgdkOX"
      },
      "execution_count": null,
      "outputs": []
    },
    {
      "cell_type": "markdown",
      "source": [
        "## Rsultados"
      ],
      "metadata": {
        "id": "MbxFNyONYUHo"
      }
    },
    {
      "cell_type": "code",
      "source": [
        "resultados.display()"
      ],
      "metadata": {
        "id": "RgWJIXpwdnj_",
        "colab": {
          "base_uri": "https://localhost:8080/"
        },
        "outputId": "424e274b-3594-49fe-9d5f-15da3c316597"
      },
      "execution_count": null,
      "outputs": [
        {
          "output_type": "stream",
          "name": "stdout",
          "text": [
            "Stat                 rebalanceamento    Buy&Hold\n",
            "-------------------  -----------------  ----------\n",
            "Start                2018-01-01         2018-01-01\n",
            "End                  2023-03-23         2023-03-23\n",
            "Risk-free rate       0.00%              0.00%\n",
            "\n",
            "Total Return         120.44%            58.11%\n",
            "Daily Sharpe         0.71               0.46\n",
            "Daily Sortino        1.13               0.72\n",
            "CAGR                 16.35%             9.17%\n",
            "Max Drawdown         -37.59%            -48.92%\n",
            "Calmar Ratio         0.43               0.19\n",
            "\n",
            "MTD                  7.44%              7.88%\n",
            "3m                   22.68%             21.62%\n",
            "6m                   20.90%             19.56%\n",
            "YTD                  23.09%             21.97%\n",
            "1Y                   -7.46%             -17.19%\n",
            "3Y (ann.)            36.06%             25.45%\n",
            "5Y (ann.)            20.97%             13.02%\n",
            "10Y (ann.)           -                  -\n",
            "Since Incep. (ann.)  16.35%             9.17%\n",
            "\n",
            "Daily Sharpe         0.71               0.46\n",
            "Daily Sortino        1.13               0.72\n",
            "Daily Mean (ann.)    19.22%             12.99%\n",
            "Daily Vol (ann.)     26.89%             28.08%\n",
            "Daily Skew           -0.64              -0.47\n",
            "Daily Kurt           7.10               5.32\n",
            "Best Day             7.66%              10.57%\n",
            "Worst Day            -14.91%            -10.80%\n",
            "\n",
            "Monthly Sharpe       0.73               0.51\n",
            "Monthly Sortino      1.68               0.97\n",
            "Monthly Mean (ann.)  21.18%             14.93%\n",
            "Monthly Vol (ann.)   28.89%             29.48%\n",
            "Monthly Skew         0.30               0.08\n",
            "Monthly Kurt         -0.68              0.60\n",
            "Best Month           18.12%             23.44%\n",
            "Worst Month          -14.77%            -22.09%\n",
            "\n",
            "Yearly Sharpe        0.82               0.60\n",
            "Yearly Sortino       2.59               1.32\n",
            "Yearly Mean          31.76%             21.07%\n",
            "Yearly Vol           38.92%             34.92%\n",
            "Yearly Skew          -0.71              -1.21\n",
            "Yearly Kurt          1.39               2.50\n",
            "Best Year            78.83%             59.21%\n",
            "Worst Year           -27.42%            -35.63%\n",
            "\n",
            "Avg. Drawdown        -5.88%             -7.08%\n",
            "Avg. Drawdown Days   54.76              72.80\n",
            "Avg. Up Month        8.90%              7.77%\n",
            "Avg. Down Month      -4.92%             -5.28%\n",
            "Win Year %           80.00%             80.00%\n",
            "Win 12m %            67.31%             61.54%\n"
          ]
        }
      ]
    },
    {
      "cell_type": "code",
      "source": [
        "resultados.plot();"
      ],
      "metadata": {
        "colab": {
          "base_uri": "https://localhost:8080/",
          "height": 314
        },
        "id": "D-ehk2uyYXbV",
        "outputId": "20fadbaf-85ae-4422-80bc-fb5fe8c5d6c6"
      },
      "execution_count": null,
      "outputs": [
        {
          "output_type": "display_data",
          "data": {
            "text/plain": [
              "<Figure size 1080x360 with 1 Axes>"
            ],
            "image/png": "[encoded data removed]"
          },
          "metadata": {
            "needs_background": "light"
          }
        }
      ]
    },
    {
      "cell_type": "markdown",
      "source": [
        "## Operações"
      ],
      "metadata": {
        "id": "27jVOop_YaUz"
      }
    },
    {
      "cell_type": "code",
      "source": [
        "resultados.get_transactions()"
      ],
      "metadata": {
        "colab": {
          "base_uri": "https://localhost:8080/",
          "height": 455
        },
        "id": "gUxOiCIWYZMJ",
        "outputId": "27d428b2-6ebe-4644-d467-bcf508c47589"
      },
      "execution_count": null,
      "outputs": [
        {
          "output_type": "execute_result",
          "data": {
            "text/plain": [
              "                              price  quantity\n",
              "Date       Security                          \n",
              "2018-01-02 BTC-USD     14982.099609      22.0\n",
              "           ^GSPC        2695.810059     123.0\n",
              "           renda_fixa      1.000000  333333.0\n",
              "2018-01-31 BTC-USD     10221.099609       7.0\n",
              "           ^GSPC        2823.810059     -16.0\n",
              "...                             ...       ...\n",
              "2023-01-31 BTC-USD     23139.283203      -6.0\n",
              "           ^GSPC        4076.600098      13.0\n",
              "           renda_fixa      1.375202   61112.0\n",
              "2023-02-28 ^GSPC        3970.149902       4.0\n",
              "           renda_fixa      1.387829   -7272.0\n",
              "\n",
              "[177 rows x 2 columns]"
            ],
            "text/html": [
              "\n",
              "  <div id=\"df-107a9421-e159-41fa-94a4-a8193705cbb5\">\n",
              "    <div class=\"colab-df-container\">\n",
              "      <div>\n",
              "<style scoped>\n",
              "    .dataframe tbody tr th:only-of-type {\n",
              "        vertical-align: middle;\n",
              "    }\n",
              "\n",
              "    .dataframe tbody tr th {\n",
              "        vertical-align: top;\n",
              "    }\n",
              "\n",
              "    .dataframe thead th {\n",
              "        text-align: right;\n",
              "    }\n",
              "</style>\n",
              "<table border=\"1\" class=\"dataframe\">\n",
              "  <thead>\n",
              "    <tr style=\"text-align: right;\">\n",
              "      <th></th>\n",
              "      <th></th>\n",
              "      <th>price</th>\n",
              "      <th>quantity</th>\n",
              "    </tr>\n",
              "    <tr>\n",
              "      <th>Date</th>\n",
              "      <th>Security</th>\n",
              "      <th></th>\n",
              "      <th></th>\n",
              "    </tr>\n",
              "  </thead>\n",
              "  <tbody>\n",
              "    <tr>\n",
              "      <th rowspan=\"3\" valign=\"top\">2018-01-02</th>\n",
              "      <th>BTC-USD</th>\n",
              "      <td>14982.099609</td>\n",
              "      <td>22.0</td>\n",
              "    </tr>\n",
              "    <tr>\n",
              "      <th>^GSPC</th>\n",
              "      <td>2695.810059</td>\n",
              "      <td>123.0</td>\n",
              "    </tr>\n",
              "    <tr>\n",
              "      <th>renda_fixa</th>\n",
              "      <td>1.000000</td>\n",
              "      <td>333333.0</td>\n",
              "    </tr>\n",
              "    <tr>\n",
              "      <th rowspan=\"2\" valign=\"top\">2018-01-31</th>\n",
              "      <th>BTC-USD</th>\n",
              "      <td>10221.099609</td>\n",
              "      <td>7.0</td>\n",
              "    </tr>\n",
              "    <tr>\n",
              "      <th>^GSPC</th>\n",
              "      <td>2823.810059</td>\n",
              "      <td>-16.0</td>\n",
              "    </tr>\n",
              "    <tr>\n",
              "      <th>...</th>\n",
              "      <th>...</th>\n",
              "      <td>...</td>\n",
              "      <td>...</td>\n",
              "    </tr>\n",
              "    <tr>\n",
              "      <th rowspan=\"3\" valign=\"top\">2023-01-31</th>\n",
              "      <th>BTC-USD</th>\n",
              "      <td>23139.283203</td>\n",
              "      <td>-6.0</td>\n",
              "    </tr>\n",
              "    <tr>\n",
              "      <th>^GSPC</th>\n",
              "      <td>4076.600098</td>\n",
              "      <td>13.0</td>\n",
              "    </tr>\n",
              "    <tr>\n",
              "      <th>renda_fixa</th>\n",
              "      <td>1.375202</td>\n",
              "      <td>61112.0</td>\n",
              "    </tr>\n",
              "    <tr>\n",
              "      <th rowspan=\"2\" valign=\"top\">2023-02-28</th>\n",
              "      <th>^GSPC</th>\n",
              "      <td>3970.149902</td>\n",
              "      <td>4.0</td>\n",
              "    </tr>\n",
              "    <tr>\n",
              "      <th>renda_fixa</th>\n",
              "      <td>1.387829</td>\n",
              "      <td>-7272.0</td>\n",
              "    </tr>\n",
              "  </tbody>\n",
              "</table>\n",
              "<p>177 rows × 2 columns</p>\n",
              "</div>\n",
              "      <button class=\"colab-df-convert\" onclick=\"convertToInteractive('df-107a9421-e159-41fa-94a4-a8193705cbb5')\"\n",
              "              title=\"Convert this dataframe to an interactive table.\"\n",
              "              style=\"display:none;\">\n",
              "        \n",
              "  <svg xmlns=\"http://www.w3.org/2000/svg\" height=\"24px\"viewBox=\"0 0 24 24\"\n",
              "       width=\"24px\">\n",
              "    <path d=\"M0 0h24v24H0V0z\" fill=\"none\"/>\n",
              "    <path d=\"M18.56 5.44l.94 2.06.94-2.06 2.06-.94-2.06-.94-.94-2.06-.94 2.06-2.06.94zm-11 1L8.5 8.5l.94-2.06 2.06-.94-2.06-.94L8.5 2.5l-.94 2.06-2.06.94zm10 10l.94 2.06.94-2.06 2.06-.94-2.06-.94-.94-2.06-.94 2.06-2.06.94z\"/><path d=\"M17.41 7.96l-1.37-1.37c-.4-.4-.92-.59-1.43-.59-.52 0-1.04.2-1.43.59L10.3 9.45l-7.72 7.72c-.78.78-.78 2.05 0 2.83L4 21.41c.39.39.9.59 1.41.59.51 0 1.02-.2 1.41-.59l7.78-7.78 2.81-2.81c.8-.78.8-2.07 0-2.86zM5.41 20L4 18.59l7.72-7.72 1.47 1.35L5.41 20z\"/>\n",
              "  </svg>\n",
              "      </button>\n",
              "      \n",
              "  <style>\n",
              "    .colab-df-container {\n",
              "      display:flex;\n",
              "      flex-wrap:wrap;\n",
              "      gap: 12px;\n",
              "    }\n",
              "\n",
              "    .colab-df-convert {\n",
              "      background-color: #E8F0FE;\n",
              "      border: none;\n",
              "      border-radius: 50%;\n",
              "      cursor: pointer;\n",
              "      display: none;\n",
              "      fill: #1967D2;\n",
              "      height: 32px;\n",
              "      padding: 0 0 0 0;\n",
              "      width: 32px;\n",
              "    }\n",
              "\n",
              "    .colab-df-convert:hover {\n",
              "      background-color: #E2EBFA;\n",
              "      box-shadow: 0px 1px 2px rgba(60, 64, 67, 0.3), 0px 1px 3px 1px rgba(60, 64, 67, 0.15);\n",
              "      fill: #174EA6;\n",
              "    }\n",
              "\n",
              "    [theme=dark] .colab-df-convert {\n",
              "      background-color: #3B4455;\n",
              "      fill: #D2E3FC;\n",
              "    }\n",
              "\n",
              "    [theme=dark] .colab-df-convert:hover {\n",
              "      background-color: #434B5C;\n",
              "      box-shadow: 0px 1px 3px 1px rgba(0, 0, 0, 0.15);\n",
              "      filter: drop-shadow(0px 1px 2px rgba(0, 0, 0, 0.3));\n",
              "      fill: #FFFFFF;\n",
              "    }\n",
              "  </style>\n",
              "\n",
              "      <script>\n",
              "        const buttonEl =\n",
              "          document.querySelector('#df-107a9421-e159-41fa-94a4-a8193705cbb5 button.colab-df-convert');\n",
              "        buttonEl.style.display =\n",
              "          google.colab.kernel.accessAllowed ? 'block' : 'none';\n",
              "\n",
              "        async function convertToInteractive(key) {\n",
              "          const element = document.querySelector('#df-107a9421-e159-41fa-94a4-a8193705cbb5');\n",
              "          const dataTable =\n",
              "            await google.colab.kernel.invokeFunction('convertToInteractive',\n",
              "                                                     [key], {});\n",
              "          if (!dataTable) return;\n",
              "\n",
              "          const docLinkHtml = 'Like what you see? Visit the ' +\n",
              "            '<a target=\"_blank\" href=https://colab.research.google.com/notebooks/data_table.ipynb>data table notebook</a>'\n",
              "            + ' to learn more about interactive tables.';\n",
              "          element.innerHTML = '';\n",
              "          dataTable['output_type'] = 'display_data';\n",
              "          await google.colab.output.renderOutput(dataTable, element);\n",
              "          const docLink = document.createElement('div');\n",
              "          docLink.innerHTML = docLinkHtml;\n",
              "          element.appendChild(docLink);\n",
              "        }\n",
              "      </script>\n",
              "    </div>\n",
              "  </div>\n",
              "  "
            ]
          },
          "metadata": {},
          "execution_count": 18
        }
      ]
    },
    {
      "cell_type": "markdown",
      "source": [
        "Pesos"
      ],
      "metadata": {
        "id": "JeZPGZ--YedC"
      }
    },
    {
      "cell_type": "code",
      "source": [
        "resultados.get_security_weights()"
      ],
      "metadata": {
        "colab": {
          "base_uri": "https://localhost:8080/",
          "height": 424
        },
        "id": "S8674_GOYciL",
        "outputId": "0ced3fcb-d689-4715-e35b-a1248920d87a"
      },
      "execution_count": null,
      "outputs": [
        {
          "output_type": "execute_result",
          "data": {
            "text/plain": [
              "             BTC-USD     ^GSPC  renda_fixa\n",
              "2018-01-01  0.000000  0.000000    0.000000\n",
              "2018-01-02  0.329606  0.331585    0.333333\n",
              "2018-01-03  0.332060  0.331349    0.331154\n",
              "2018-01-04  0.337344  0.329351    0.327922\n",
              "2018-01-05  0.361738  0.318303    0.314792\n",
              "...              ...       ...         ...\n",
              "2023-03-17  0.366314  0.310290    0.317096\n",
              "2023-03-20  0.368134  0.310723    0.314891\n",
              "2023-03-21  0.369995  0.311760    0.312052\n",
              "2023-03-22  0.364562  0.311733    0.317408\n",
              "2023-03-23  0.372751  0.308105    0.312939\n",
              "\n",
              "[1280 rows x 3 columns]"
            ],
            "text/html": [
              "\n",
              "  <div id=\"df-234e4a51-8028-4f58-b980-032906285a4e\">\n",
              "    <div class=\"colab-df-container\">\n",
              "      <div>\n",
              "<style scoped>\n",
              "    .dataframe tbody tr th:only-of-type {\n",
              "        vertical-align: middle;\n",
              "    }\n",
              "\n",
              "    .dataframe tbody tr th {\n",
              "        vertical-align: top;\n",
              "    }\n",
              "\n",
              "    .dataframe thead th {\n",
              "        text-align: right;\n",
              "    }\n",
              "</style>\n",
              "<table border=\"1\" class=\"dataframe\">\n",
              "  <thead>\n",
              "    <tr style=\"text-align: right;\">\n",
              "      <th></th>\n",
              "      <th>BTC-USD</th>\n",
              "      <th>^GSPC</th>\n",
              "      <th>renda_fixa</th>\n",
              "    </tr>\n",
              "  </thead>\n",
              "  <tbody>\n",
              "    <tr>\n",
              "      <th>2018-01-01</th>\n",
              "      <td>0.000000</td>\n",
              "      <td>0.000000</td>\n",
              "      <td>0.000000</td>\n",
              "    </tr>\n",
              "    <tr>\n",
              "      <th>2018-01-02</th>\n",
              "      <td>0.329606</td>\n",
              "      <td>0.331585</td>\n",
              "      <td>0.333333</td>\n",
              "    </tr>\n",
              "    <tr>\n",
              "      <th>2018-01-03</th>\n",
              "      <td>0.332060</td>\n",
              "      <td>0.331349</td>\n",
              "      <td>0.331154</td>\n",
              "    </tr>\n",
              "    <tr>\n",
              "      <th>2018-01-04</th>\n",
              "      <td>0.337344</td>\n",
              "      <td>0.329351</td>\n",
              "      <td>0.327922</td>\n",
              "    </tr>\n",
              "    <tr>\n",
              "      <th>2018-01-05</th>\n",
              "      <td>0.361738</td>\n",
              "      <td>0.318303</td>\n",
              "      <td>0.314792</td>\n",
              "    </tr>\n",
              "    <tr>\n",
              "      <th>...</th>\n",
              "      <td>...</td>\n",
              "      <td>...</td>\n",
              "      <td>...</td>\n",
              "    </tr>\n",
              "    <tr>\n",
              "      <th>2023-03-17</th>\n",
              "      <td>0.366314</td>\n",
              "      <td>0.310290</td>\n",
              "      <td>0.317096</td>\n",
              "    </tr>\n",
              "    <tr>\n",
              "      <th>2023-03-20</th>\n",
              "      <td>0.368134</td>\n",
              "      <td>0.310723</td>\n",
              "      <td>0.314891</td>\n",
              "    </tr>\n",
              "    <tr>\n",
              "      <th>2023-03-21</th>\n",
              "      <td>0.369995</td>\n",
              "      <td>0.311760</td>\n",
              "      <td>0.312052</td>\n",
              "    </tr>\n",
              "    <tr>\n",
              "      <th>2023-03-22</th>\n",
              "      <td>0.364562</td>\n",
              "      <td>0.311733</td>\n",
              "      <td>0.317408</td>\n",
              "    </tr>\n",
              "    <tr>\n",
              "      <th>2023-03-23</th>\n",
              "      <td>0.372751</td>\n",
              "      <td>0.308105</td>\n",
              "      <td>0.312939</td>\n",
              "    </tr>\n",
              "  </tbody>\n",
              "</table>\n",
              "<p>1280 rows × 3 columns</p>\n",
              "</div>\n",
              "      <button class=\"colab-df-convert\" onclick=\"convertToInteractive('df-234e4a51-8028-4f58-b980-032906285a4e')\"\n",
              "              title=\"Convert this dataframe to an interactive table.\"\n",
              "              style=\"display:none;\">\n",
              "        \n",
              "  <svg xmlns=\"http://www.w3.org/2000/svg\" height=\"24px\"viewBox=\"0 0 24 24\"\n",
              "       width=\"24px\">\n",
              "    <path d=\"M0 0h24v24H0V0z\" fill=\"none\"/>\n",
              "    <path d=\"M18.56 5.44l.94 2.06.94-2.06 2.06-.94-2.06-.94-.94-2.06-.94 2.06-2.06.94zm-11 1L8.5 8.5l.94-2.06 2.06-.94-2.06-.94L8.5 2.5l-.94 2.06-2.06.94zm10 10l.94 2.06.94-2.06 2.06-.94-2.06-.94-.94-2.06-.94 2.06-2.06.94z\"/><path d=\"M17.41 7.96l-1.37-1.37c-.4-.4-.92-.59-1.43-.59-.52 0-1.04.2-1.43.59L10.3 9.45l-7.72 7.72c-.78.78-.78 2.05 0 2.83L4 21.41c.39.39.9.59 1.41.59.51 0 1.02-.2 1.41-.59l7.78-7.78 2.81-2.81c.8-.78.8-2.07 0-2.86zM5.41 20L4 18.59l7.72-7.72 1.47 1.35L5.41 20z\"/>\n",
              "  </svg>\n",
              "      </button>\n",
              "      \n",
              "  <style>\n",
              "    .colab-df-container {\n",
              "      display:flex;\n",
              "      flex-wrap:wrap;\n",
              "      gap: 12px;\n",
              "    }\n",
              "\n",
              "    .colab-df-convert {\n",
              "      background-color: #E8F0FE;\n",
              "      border: none;\n",
              "      border-radius: 50%;\n",
              "      cursor: pointer;\n",
              "      display: none;\n",
              "      fill: #1967D2;\n",
              "      height: 32px;\n",
              "      padding: 0 0 0 0;\n",
              "      width: 32px;\n",
              "    }\n",
              "\n",
              "    .colab-df-convert:hover {\n",
              "      background-color: #E2EBFA;\n",
              "      box-shadow: 0px 1px 2px rgba(60, 64, 67, 0.3), 0px 1px 3px 1px rgba(60, 64, 67, 0.15);\n",
              "      fill: #174EA6;\n",
              "    }\n",
              "\n",
              "    [theme=dark] .colab-df-convert {\n",
              "      background-color: #3B4455;\n",
              "      fill: #D2E3FC;\n",
              "    }\n",
              "\n",
              "    [theme=dark] .colab-df-convert:hover {\n",
              "      background-color: #434B5C;\n",
              "      box-shadow: 0px 1px 3px 1px rgba(0, 0, 0, 0.15);\n",
              "      filter: drop-shadow(0px 1px 2px rgba(0, 0, 0, 0.3));\n",
              "      fill: #FFFFFF;\n",
              "    }\n",
              "  </style>\n",
              "\n",
              "      <script>\n",
              "        const buttonEl =\n",
              "          document.querySelector('#df-234e4a51-8028-4f58-b980-032906285a4e button.colab-df-convert');\n",
              "        buttonEl.style.display =\n",
              "          google.colab.kernel.accessAllowed ? 'block' : 'none';\n",
              "\n",
              "        async function convertToInteractive(key) {\n",
              "          const element = document.querySelector('#df-234e4a51-8028-4f58-b980-032906285a4e');\n",
              "          const dataTable =\n",
              "            await google.colab.kernel.invokeFunction('convertToInteractive',\n",
              "                                                     [key], {});\n",
              "          if (!dataTable) return;\n",
              "\n",
              "          const docLinkHtml = 'Like what you see? Visit the ' +\n",
              "            '<a target=\"_blank\" href=https://colab.research.google.com/notebooks/data_table.ipynb>data table notebook</a>'\n",
              "            + ' to learn more about interactive tables.';\n",
              "          element.innerHTML = '';\n",
              "          dataTable['output_type'] = 'display_data';\n",
              "          await google.colab.output.renderOutput(dataTable, element);\n",
              "          const docLink = document.createElement('div');\n",
              "          docLink.innerHTML = docLinkHtml;\n",
              "          element.appendChild(docLink);\n",
              "        }\n",
              "      </script>\n",
              "    </div>\n",
              "  </div>\n",
              "  "
            ]
          },
          "metadata": {},
          "execution_count": 19
        }
      ]
    },
    {
      "cell_type": "code",
      "source": [
        "resultados.plot_security_weights()"
      ],
      "metadata": {
        "colab": {
          "base_uri": "https://localhost:8080/",
          "height": 299
        },
        "id": "HgjefMKfYgpv",
        "outputId": "041f5741-9e36-4fe3-8f03-0490c015b817"
      },
      "execution_count": null,
      "outputs": [
        {
          "output_type": "display_data",
          "data": {
            "text/plain": [
              "<Figure size 1080x360 with 1 Axes>"
            ],
            "image/png": "[encoded data removed]"
          },
          "metadata": {
            "needs_background": "light"
          }
        }
      ]
    },
    {
      "cell_type": "code",
      "source": [],
      "metadata": {
        "id": "D6JHvDpzxplh"
      },
      "execution_count": null,
      "outputs": []
    }
  ]
}